{
 "cells": [
  {
   "cell_type": "code",
   "execution_count": 1,
   "metadata": {},
   "outputs": [
    {
     "name": "stderr",
     "output_type": "stream",
     "text": [
      "Using TensorFlow backend.\n"
     ]
    },
    {
     "name": "stdout",
     "output_type": "stream",
     "text": [
      "##################### picam_submodel ########################\n",
      "_________________________________________________________________\n",
      "Layer (type)                 Output Shape              Param #   \n",
      "=================================================================\n",
      "input_1 (InputLayer)         (None, 81, 108, 3)        0         \n",
      "_________________________________________________________________\n",
      "conv2d_1 (Conv2D)            (None, 79, 106, 3)        84        \n",
      "_________________________________________________________________\n",
      "max_pooling2d_1 (MaxPooling2 (None, 39, 53, 3)         0         \n",
      "_________________________________________________________________\n",
      "conv2d_2 (Conv2D)            (None, 37, 51, 3)         84        \n",
      "_________________________________________________________________\n",
      "max_pooling2d_2 (MaxPooling2 (None, 18, 25, 3)         0         \n",
      "_________________________________________________________________\n",
      "conv2d_3 (Conv2D)            (None, 16, 23, 3)         84        \n",
      "_________________________________________________________________\n",
      "max_pooling2d_3 (MaxPooling2 (None, 8, 11, 3)          0         \n",
      "_________________________________________________________________\n",
      "flatten_1 (Flatten)          (None, 264)               0         \n",
      "_________________________________________________________________\n",
      "dropout_1 (Dropout)          (None, 264)               0         \n",
      "=================================================================\n",
      "Total params: 252\n",
      "Trainable params: 252\n",
      "Non-trainable params: 0\n",
      "_________________________________________________________________\n",
      "########################################## MAIN MODEL #############################################\n",
      "__________________________________________________________________________________________________\n",
      "Layer (type)                    Output Shape         Param #     Connected to                     \n",
      "==================================================================================================\n",
      "picam (InputLayer)              (None, 81, 108, 3)   0                                            \n",
      "__________________________________________________________________________________________________\n",
      "picam_submodel (Model)          (None, 264)          252         picam[0][0]                      \n",
      "__________________________________________________________________________________________________\n",
      "claw_feature (Dense)            (None, 1)            265         picam_submodel[1][0]             \n",
      "__________________________________________________________________________________________________\n",
      "claw_prev (InputLayer)          (None, 1)            0                                            \n",
      "__________________________________________________________________________________________________\n",
      "forward_feature (Dense)         (None, 1)            265         picam_submodel[1][0]             \n",
      "__________________________________________________________________________________________________\n",
      "forward_prev (InputLayer)       (None, 1)            0                                            \n",
      "__________________________________________________________________________________________________\n",
      "height_feature (Dense)          (None, 1)            265         picam_submodel[1][0]             \n",
      "__________________________________________________________________________________________________\n",
      "height_prev (InputLayer)        (None, 1)            0                                            \n",
      "__________________________________________________________________________________________________\n",
      "twist_feature (Dense)           (None, 1)            265         picam_submodel[1][0]             \n",
      "__________________________________________________________________________________________________\n",
      "twist_prev (InputLayer)         (None, 1)            0                                            \n",
      "__________________________________________________________________________________________________\n",
      "add_prev_claw (Add)             (None, 1)            0           claw_feature[0][0]               \n",
      "                                                                 claw_prev[0][0]                  \n",
      "__________________________________________________________________________________________________\n",
      "add_prev_forward (Add)          (None, 1)            0           forward_feature[0][0]            \n",
      "                                                                 forward_prev[0][0]               \n",
      "__________________________________________________________________________________________________\n",
      "add_prev_height (Add)           (None, 1)            0           height_feature[0][0]             \n",
      "                                                                 height_prev[0][0]                \n",
      "__________________________________________________________________________________________________\n",
      "add_prev_twist (Add)            (None, 1)            0           twist_feature[0][0]              \n",
      "                                                                 twist_prev[0][0]                 \n",
      "__________________________________________________________________________________________________\n",
      "claw (Activation)               (None, 1)            0           add_prev_claw[0][0]              \n",
      "__________________________________________________________________________________________________\n",
      "forward (Activation)            (None, 1)            0           add_prev_forward[0][0]           \n",
      "__________________________________________________________________________________________________\n",
      "height (Activation)             (None, 1)            0           add_prev_height[0][0]            \n",
      "__________________________________________________________________________________________________\n",
      "twist (Activation)              (None, 1)            0           add_prev_twist[0][0]             \n",
      "==================================================================================================\n",
      "Total params: 1,312\n",
      "Trainable params: 1,312\n",
      "Non-trainable params: 0\n",
      "__________________________________________________________________________________________________\n"
     ]
    },
    {
     "data": {
      "text/plain": [
       "<keras.engine.training.Model at 0x7f7474725ba8>"
      ]
     },
     "execution_count": 1,
     "metadata": {},
     "output_type": "execute_result"
    }
   ],
   "source": [
    "import requests\n",
    "from brain import models\n",
    "robot_info = requests.get('http://plfelt-mbp.local:8080/robots/marion').json()\n",
    "models.create_end_to_end_model1(robot_info)"
   ]
  },
  {
   "cell_type": "code",
   "execution_count": 2,
   "metadata": {},
   "outputs": [],
   "source": [
    "from keras.layers import concatenate"
   ]
  },
  {
   "cell_type": "code",
   "execution_count": 3,
   "metadata": {},
   "outputs": [],
   "source": [
    "sensor_info = robot_info['sensors'][0]\n",
    "mm=models.create_input_model_for(sensor_info)"
   ]
  },
  {
   "cell_type": "code",
   "execution_count": 9,
   "metadata": {},
   "outputs": [
    {
     "data": {
      "text/plain": [
       "'sensor1'"
      ]
     },
     "execution_count": 9,
     "metadata": {},
     "output_type": "execute_result"
    }
   ],
   "source": [
    "ii=mm.get_input_at(0)\n",
    "ss=ii.get_shape()\n",
    "ss.as_list()\n",
    "mm.name"
   ]
  },
  {
   "cell_type": "code",
   "execution_count": null,
   "metadata": {},
   "outputs": [],
   "source": []
  }
 ],
 "metadata": {
  "kernelspec": {
   "display_name": "Python 3",
   "language": "python",
   "name": "python3"
  },
  "language_info": {
   "codemirror_mode": {
    "name": "ipython",
    "version": 3
   },
   "file_extension": ".py",
   "mimetype": "text/x-python",
   "name": "python",
   "nbconvert_exporter": "python",
   "pygments_lexer": "ipython3",
   "version": "3.5.2"
  }
 },
 "nbformat": 4,
 "nbformat_minor": 2
}
