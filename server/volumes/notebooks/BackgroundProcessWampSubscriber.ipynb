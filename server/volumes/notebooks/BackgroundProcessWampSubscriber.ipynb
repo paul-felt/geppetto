{
 "cells": [
  {
   "cell_type": "code",
   "execution_count": 1,
   "metadata": {},
   "outputs": [
    {
     "name": "stderr",
     "output_type": "stream",
     "text": [
      "Process SignalReceiver-1:\n",
      "Traceback (most recent call last):\n",
      "  File \"/usr/lib/python3.5/multiprocessing/process.py\", line 249, in _bootstrap\n",
      "    self.run()\n",
      "  File \"<ipython-input-1-3f484c7883e7>\", line 30, in run\n",
      "    ab_utils.run([wamp_component])\n",
      "  File \"/usr/local/lib/python3.5/dist-packages/autobahn/asyncio/component.py\", line 415, in run\n",
      "    loop.run_forever()\n",
      "  File \"/usr/lib/python3.5/asyncio/base_events.py\", line 340, in run_forever\n",
      "    raise RuntimeError('Event loop is running.')\n",
      "RuntimeError: Event loop is running.\n"
     ]
    }
   ],
   "source": [
    "from autobahn.asyncio import component as ab_utils\n",
    "from autobahn.wamp import types as ab_types\n",
    "from multiprocessing import Process\n",
    "from queue import Queue\n",
    "\n",
    "\n",
    "class SignalReceiver(Process):\n",
    "    def __init__(self, host='plfelt-mbp', wamp_port=5555):\n",
    "        self.host = host\n",
    "        self.wamp_port = wamp_port\n",
    "        self.q = Queue()\n",
    "        super().__init__()\n",
    "        \n",
    "    def _get_wamp_component(self, host, wamp_port):\n",
    "        return ab_utils.Component(\n",
    "            transports=u\"ws://{host}:{port}/ws\".format(host=host, port=wamp_port),\n",
    "            realm=u\"realm1\",\n",
    "        )\n",
    "\n",
    "    def handle_signal(self, a, b):\n",
    "        print('got sensor data',a,b)\n",
    "        self.q.put(data)\n",
    "    \n",
    "    def on_join(self, session, details):\n",
    "        session.subscribe(self.handle_sensor, '', options=ab_types.SubscribeOptions(match='prefix'))\n",
    "    \n",
    "    def run(self):\n",
    "        wamp_component = self._get_wamp_component(self.host, self.wamp_port)\n",
    "        wamp_component.on_join(self.on_join)\n",
    "        ab_utils.run([wamp_component])\n",
    "\n",
    "\n",
    "SignalReceiver().start()"
   ]
  },
  {
   "cell_type": "code",
   "execution_count": null,
   "metadata": {},
   "outputs": [],
   "source": []
  }
 ],
 "metadata": {
  "kernelspec": {
   "display_name": "Python 3",
   "language": "python",
   "name": "python3"
  },
  "language_info": {
   "codemirror_mode": {
    "name": "ipython",
    "version": 3
   },
   "file_extension": ".py",
   "mimetype": "text/x-python",
   "name": "python",
   "nbconvert_exporter": "python",
   "pygments_lexer": "ipython3",
   "version": "3.5.2"
  }
 },
 "nbformat": 4,
 "nbformat_minor": 2
}
