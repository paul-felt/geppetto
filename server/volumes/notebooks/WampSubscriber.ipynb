{
 "cells": [
  {
   "cell_type": "code",
   "execution_count": 1,
   "metadata": {},
   "outputs": [],
   "source": [
    "from autobahn.asyncio import component as ab_utils\n",
    "from autobahn.wamp import types as ab_types\n",
    "from collections import deque, defaultdict\n",
    "\n",
    "\n",
    "class SignalReceiver(object):\n",
    "    def __init__(self, host='plfelt-mbp.local', wamp_port=5555, maxsize=1000):\n",
    "        self.host = host\n",
    "        self.wamp_port = wamp_port\n",
    "        self.q = defaultdict(deque)\n",
    "        super().__init__()\n",
    "        \n",
    "    def _get_wamp_component(self, host, wamp_port):\n",
    "        return ab_utils.Component(\n",
    "            transports=u\"ws://{host}:{port}/ws\".format(host=host, port=wamp_port),\n",
    "            realm=u\"realm1\",\n",
    "        )\n",
    "\n",
    "    def handle_signal(self, *args, **kwargs):\n",
    "#        print('got sensor data',len(args),kwargs.keys())\n",
    "        if kwargs is not None and 'robot_name' in kwargs:\n",
    "            self.q[kwargs['robot_name'], kwargs['signal_type'], kwargs['name']].append((args, kwargs))\n",
    "#             self.q[kwargs['robot_name']].append((args, kwargs))\n",
    "    \n",
    "    def on_join(self, session, details):\n",
    "        session.subscribe(self.handle_signal, '', options=ab_types.SubscribeOptions(match='prefix'))\n",
    "    \n",
    "    def start(self):\n",
    "        self.wamp_component = self._get_wamp_component(self.host, self.wamp_port)\n",
    "        self.wamp_component.on_join(self.on_join)\n",
    "        self.wamp_component.start()\n",
    "\n",
    "    def stop(self):\n",
    "        self.wamp_component.stop()"
   ]
  },
  {
   "cell_type": "code",
   "execution_count": 2,
   "metadata": {},
   "outputs": [
    {
     "name": "stderr",
     "output_type": "stream",
     "text": [
      "Using default loop\n"
     ]
    }
   ],
   "source": [
    "# Listen for events\n",
    "signal_receiver = SignalReceiver()\n",
    "q = signal_receiver.q\n",
    "signal_receiver.start()"
   ]
  },
  {
   "cell_type": "code",
   "execution_count": 8,
   "metadata": {},
   "outputs": [
    {
     "data": {
      "text/plain": [
       "2"
      ]
     },
     "execution_count": 8,
     "metadata": {},
     "output_type": "execute_result"
    }
   ],
   "source": [
    "len(q)"
   ]
  },
  {
   "cell_type": "code",
   "execution_count": 19,
   "metadata": {},
   "outputs": [
    {
     "data": {
      "text/plain": [
       "dict_keys([('marion', 'sensor', 'picam')])"
      ]
     },
     "execution_count": 19,
     "metadata": {},
     "output_type": "execute_result"
    },
    {
     "name": "stderr",
     "output_type": "stream",
     "text": [
      "Exception in callback _SelectorTransport._call_connection_lost(None)\n",
      "handle: <Handle _SelectorTransport._call_connection_lost(None)>\n",
      "Traceback (most recent call last):\n",
      "  File \"/usr/lib/python3.5/asyncio/events.py\", line 125, in _run\n",
      "    self._callback(*self._args)\n",
      "  File \"/usr/lib/python3.5/asyncio/selector_events.py\", line 606, in _call_connection_lost\n",
      "    self._protocol.connection_lost(exc)\n",
      "  File \"/usr/local/lib/python3.5/dist-packages/autobahn/asyncio/component.py\", line 308, in lost\n",
      "    rtn = orig(fail)\n",
      "  File \"/usr/local/lib/python3.5/dist-packages/autobahn/asyncio/websocket.py\", line 100, in connection_lost\n",
      "    self._connectionLost(exc)\n",
      "  File \"/usr/local/lib/python3.5/dist-packages/autobahn/websocket/protocol.py\", line 3363, in _connectionLost\n",
      "    WebSocketProtocol._connectionLost(self, reason)\n",
      "  File \"/usr/local/lib/python3.5/dist-packages/autobahn/websocket/protocol.py\", line 1096, in _connectionLost\n",
      "    reason_string = _maybe_tls_reason(reason.value)\n",
      "AttributeError: 'NoneType' object has no attribute 'value'\n"
     ]
    }
   ],
   "source": [
    "q.keys()"
   ]
  },
  {
   "cell_type": "code",
   "execution_count": 10,
   "metadata": {},
   "outputs": [],
   "source": [
    "mq = q['marion', 'sensor', 'picam']"
   ]
  },
  {
   "cell_type": "code",
   "execution_count": 23,
   "metadata": {},
   "outputs": [
    {
     "data": {
      "text/plain": [
       "15635"
      ]
     },
     "execution_count": 23,
     "metadata": {},
     "output_type": "execute_result"
    }
   ],
   "source": [
    "len(mq)"
   ]
  },
  {
   "cell_type": "code",
   "execution_count": null,
   "metadata": {},
   "outputs": [],
   "source": []
  }
 ],
 "metadata": {
  "kernelspec": {
   "display_name": "Python 3",
   "language": "python",
   "name": "python3"
  },
  "language_info": {
   "codemirror_mode": {
    "name": "ipython",
    "version": 3
   },
   "file_extension": ".py",
   "mimetype": "text/x-python",
   "name": "python",
   "nbconvert_exporter": "python",
   "pygments_lexer": "ipython3",
   "version": "3.5.2"
  }
 },
 "nbformat": 4,
 "nbformat_minor": 2
}
