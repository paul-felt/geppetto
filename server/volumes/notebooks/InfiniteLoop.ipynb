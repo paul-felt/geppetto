{
 "cells": [
  {
   "cell_type": "code",
   "execution_count": null,
   "metadata": {},
   "outputs": [
    {
     "name": "stdout",
     "output_type": "stream",
     "text": [
      "10000000\n",
      "20000000\n",
      "30000000\n",
      "40000000\n",
      "50000000\n",
      "60000000\n",
      "70000000\n",
      "80000000\n",
      "90000000\n",
      "100000000\n",
      "110000000\n",
      "120000000\n",
      "130000000\n",
      "140000000\n",
      "150000000\n",
      "160000000\n",
      "170000000\n",
      "180000000\n",
      "190000000\n",
      "200000000\n",
      "210000000\n",
      "220000000\n",
      "230000000\n",
      "240000000\n",
      "250000000\n",
      "260000000\n",
      "270000000\n",
      "280000000\n"
     ]
    }
   ],
   "source": [
    "i=0\n",
    "while True:\n",
    "    i+=1\n",
    "    if i%10000000==0:\n",
    "        print(i)"
   ]
  },
  {
   "cell_type": "code",
   "execution_count": 6,
   "metadata": {},
   "outputs": [
    {
     "name": "stdout",
     "output_type": "stream",
     "text": [
      "hi\r\n"
     ]
    }
   ],
   "source": [
    "!sleep 9; echo 'hi';"
   ]
  },
  {
   "cell_type": "code",
   "execution_count": null,
   "metadata": {},
   "outputs": [],
   "source": []
  }
 ],
 "metadata": {
  "kernelspec": {
   "display_name": "Python 3",
   "language": "python",
   "name": "python3"
  },
  "language_info": {
   "codemirror_mode": {
    "name": "ipython",
    "version": 3
   },
   "file_extension": ".py",
   "mimetype": "text/x-python",
   "name": "python",
   "nbconvert_exporter": "python",
   "pygments_lexer": "ipython3",
   "version": "3.5.2"
  }
 },
 "nbformat": 4,
 "nbformat_minor": 2
}
